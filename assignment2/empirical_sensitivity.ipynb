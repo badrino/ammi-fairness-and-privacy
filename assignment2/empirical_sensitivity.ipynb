{
 "cells": [
  {
   "cell_type": "markdown",
   "metadata": {},
   "source": [
    "import statments"
   ]
  },
  {
   "cell_type": "code",
   "execution_count": null,
   "metadata": {},
   "outputs": [],
   "source": [
    "\"\"\"Empirical Sensitivity.\"\"\"\n",
    "import argparse\n",
    "import os\n",
    "\n",
    "import numpy as np\n",
    "import torch\n",
    "from torch import nn\n",
    "\n",
    "from utils import get_data_loaders"
   ]
  },
  {
   "cell_type": "markdown",
   "metadata": {},
   "source": [
    "your code"
   ]
  },
  {
   "cell_type": "code",
   "execution_count": null,
   "metadata": {},
   "outputs": [],
   "source": [
    "def plot_hist(array_of_empirical_sensitivities, n, lmbda, name):\n",
    "    if not isinstance(array_of_empirical_sensitivities, np.ndarray):\n",
    "        raise ValueError('array_of_empirical_sensitivities should be a np.ndarray.')\n",
    "    if not isinstance(name, str):\n",
    "        raise ValueError('name should be a str')\n",
    "\n",
    "    import matplotlib\n",
    "    matplotlib.use('Agg')\n",
    "    import matplotlib.pyplot as plt\n",
    "\n",
    "    ################################################################\n",
    "    # TODO(student): replace below with correct theoretical max sensitivity\n",
    "    max_theoretical_sensitivity = -1.\n",
    "    ################################################################\n",
    "\n",
    "    num_bins = 20\n",
    "    dirname = './figs'\n",
    "    filename = os.path.join(dirname, name) + '.histogram.png'\n",
    "    if not os.path.exists(dirname):\n",
    "        os.makedirs(dirname)\n",
    "    fig, ax = plt.subplots()\n",
    "    ax.set_xscale('log')\n",
    "    bin_values, _, _ = ax.hist(array_of_empirical_sensitivities, \n",
    "            num_bins, label='empirical sensitivities')\n",
    "    ax.set_title('histogram of sensitivities: ' + name)\n",
    "    ax.axvline(x=max_theoretical_sensitivity, color='r', linestyle='dashed', linewidth=2,\n",
    "            label='theoretical max sensitivity')\n",
    "    ax.legend()\n",
    "    fig.savefig(filename)\n",
    "    return filename\n",
    "\n",
    "\n",
    "def plot_extreme_neighbors(sensitivities, list_of_neighboring_examples, name):\n",
    "    \"\"\"Plots to disk the neighboring-example pairs with the most and least empirical sensitivity\n",
    "    \n",
    "    Note on the data structures used: \n",
    "        sensitivities: a np.ndarray containing empirical sensitivities for each run\n",
    "        list_of_neighboring_examples: a list of neighboring example pairs, one for each run. in other words:\n",
    "        \n",
    "        list_of_neighboring_examples = [\n",
    "            neighboring_example_1, \n",
    "            neighboring_example_2,  \n",
    "            ...\n",
    "            neighboring_example_n,\n",
    "            ]\n",
    "            \n",
    "        where each tuple in the list represents the data diff between the neighboring \n",
    "        datasets and is formatted like this:\n",
    "        \n",
    "        neighboring_example_i = (\n",
    "            (neighbor_img_i, neighbor_label_i),\n",
    "            (neighbor_img_i_prime, neighbor_label_i_prime),\n",
    "        )\n",
    "        \n",
    "        See utils.py if you are still confused.\n",
    "    \"\"\"\n",
    "    if not isinstance(sensitivities, np.ndarray):\n",
    "        raise ValueError('sensitivies should be a np.ndarray.')\n",
    "    first_neighbor_pair = list_of_neighboring_examples[0]\n",
    "    if not isinstance(list_of_neighboring_examples, list) or not isinstance(first_neighbor_pair, tuple) \\\n",
    "            or not isinstance(first_neighbor_pair[0][0], torch.Tensor):\n",
    "        raise ValueError('list_of_neighboring_examples should be a list of tuple pairs, where tuple contains img tensors')\n",
    "    if not isinstance(name, str):\n",
    "        raise ValueError('name should be a str')\n",
    "\n",
    "    import matplotlib\n",
    "    matplotlib.use('Agg')\n",
    "    import matplotlib.pyplot as plt\n",
    "\n",
    "    ############################################################################\n",
    "    # TODO(student)\n",
    "    #\n",
    "    # using list_of_empirical_sensitivies and neighboring_examples, create two image plots\n",
    "    # 1) side-by-side images for neighbor-pair that maximizes sensitivity\n",
    "    # 2) side-by-side images for neighbor-pair that minimizes sensitivity\n",
    "    #\n",
    "    # matplotlib.subplots and matplotlib.imshow may come in handy\n",
    "    #\n",
    "    filenames = None, None\n",
    "    raise NotImplementedError\n",
    "    ############################################################################\n",
    "\n",
    "    return filenames\n",
    "\n",
    "\n",
    "def compute_empricial_sensivity(train_loader, neighbor_loader,\n",
    "        num_epochs, learning_rate, lmbda, model_seed=None):\n",
    "    ############################################################################\n",
    "    # TODO(student)\n",
    "    #\n",
    "    # your code here...\n",
    "    #\n",
    "    #\n",
    "    raise NotImplementedError\n",
    "    ############################################################################\n",
    "\n",
    "    return sensitivity"
   ]
  },
  {
   "cell_type": "markdown",
   "metadata": {},
   "source": [
    "main function"
   ]
  },
  {
   "cell_type": "code",
   "execution_count": null,
   "metadata": {},
   "outputs": [],
   "source": [
    "def main(n, runs, epochs, lr, batch_size, model_seed, lmbda):\n",
    "    list_of_empirical_sensitivies = []\n",
    "    list_of_neighboring_examples = []\n",
    "    for data_seed in range(runs):\n",
    "        loaders, neighboring_examples = get_data_loaders(data_seed, batch_size, \n",
    "                num_train=n)\n",
    "        sensitivity = compute_empricial_sensivity(\n",
    "                loaders['train'], loaders['neighbor'],\n",
    "                epochs, lr, lmbda, model_seed)\n",
    "        list_of_empirical_sensitivies.append(sensitivity)\n",
    "        list_of_neighboring_examples.append(neighboring_examples)\n",
    "\n",
    "    list_of_empirical_sensitivies = np.array(list_of_empirical_sensitivies)\n",
    "    sensitivity_upper_bound = 3.\n",
    "    name = 'lambda={},n={}'.format(lmbda, n)\n",
    "    filename = plot_hist(list_of_empirical_sensitivies, n, lmbda, name)\n",
    "    print('see plot at', filename)\n",
    "\n",
    "    filenames = plot_extreme_neighbors(list_of_empirical_sensitivies, list_of_neighboring_examples, name)\n",
    "    print('see plots at {} and {}'.format(*filenames))"
   ]
  },
  {
   "cell_type": "markdown",
   "metadata": {},
   "source": [
    "arguments and main function call"
   ]
  },
  {
   "cell_type": "code",
   "execution_count": null,
   "metadata": {},
   "outputs": [],
   "source": [
    "N = 1000\n",
    "RUNS = 4  # TODO(student): run more times once your code works; something like 100\n",
    "EPOCHS = 100\n",
    "LR = 0.1\n",
    "BATCH_SIZE = 256\n",
    "MODEL_SEED = 0\n",
    "LMBDA = 5e-4\n",
    "\n",
    "main(N, RUNS, EPOCHS, LR, BATCH_SIZE, MODEL_SEED, LMBDA)"
   ]
  }
 ],
 "metadata": {
  "kernelspec": {
   "display_name": "Python 3",
   "language": "python",
   "name": "python3"
  },
  "language_info": {
   "codemirror_mode": {
    "name": "ipython",
    "version": 3
   },
   "file_extension": ".py",
   "mimetype": "text/x-python",
   "name": "python",
   "nbconvert_exporter": "python",
   "pygments_lexer": "ipython3",
   "version": "3.6.4"
  }
 },
 "nbformat": 4,
 "nbformat_minor": 2
}
